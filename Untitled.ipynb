{
 "cells": [
  {
   "cell_type": "code",
   "execution_count": 1,
   "metadata": {},
   "outputs": [
    {
     "name": "stdout",
     "output_type": "stream",
     "text": [
      "['apple', 'banana', 'orange', 'watermelon', 'melon']\n"
     ]
    }
   ],
   "source": [
    "fruits = [\"apple\",\"banana\",\"orange\",\"watermelon\",\"melon\"]\n",
    "print(fruits)\n"
   ]
  },
  {
   "cell_type": "code",
   "execution_count": 3,
   "metadata": {},
   "outputs": [
    {
     "name": "stdout",
     "output_type": "stream",
     "text": [
      "['apple', 'banana', 'orange', 'watermelon', 'melon']\n",
      "i found it!\n"
     ]
    }
   ],
   "source": [
    "fruits = [\"apple\",\"banana\",\"orange\",\"watermelon\",\"melon\"]\n",
    "print(fruits)\n",
    "def can_you_find_apple(fruits):\n",
    "    for i in range(len(fruits)):\n",
    "        if fruits[i] == \"apple\":\n",
    "            return \"i found it!\"\n",
    "print(can_you_find_apple(fruits))"
   ]
  },
  {
   "cell_type": "code",
   "execution_count": 5,
   "metadata": {},
   "outputs": [
    {
     "name": "stdout",
     "output_type": "stream",
     "text": [
      "['apple', 'banana', 'orange', 'watermelon', 'melon', 'lemon', 'peach']\n"
     ]
    }
   ],
   "source": [
    "fruits = [\"apple\",\"banana\",\"orange\",\"watermelon\",\"melon\"]\n",
    "fruits.append(\"lemon\")\n",
    "fruits.append(\"peach\")\n",
    "print(fruits)"
   ]
  },
  {
   "cell_type": "code",
   "execution_count": 7,
   "metadata": {},
   "outputs": [
    {
     "name": "stdout",
     "output_type": "stream",
     "text": [
      "apple has 5 letters \n",
      "banana has 6 letters \n",
      "orange has 6 letters \n",
      "watermelon has 10 letters \n",
      "melon has 5 letters \n",
      "lemon has 5 letters \n",
      "peach has 5 letters \n"
     ]
    }
   ],
   "source": [
    "fruits = [\"apple\",\"banana\",\"orange\",\"watermelon\",\"melon\"]\n",
    "\n",
    "def can_you_find_apple(fruits):\n",
    "    for i in range(len(fruits)):\n",
    "        if fruits[i] == \"apple\":\n",
    "            return \"i found it!\"\n",
    "fruits.append(\"lemon\")\n",
    "fruits.append(\"peach\")\n",
    "\n",
    "letters = []\n",
    "def how_many_letters(a):\n",
    "    for i in range(len(a)):\n",
    "       letters.append(len(a[i]))\n",
    "       print(str(a[i]) + \" has \" + str(letters[i]) + \" letters \")\n",
    "how_many_letters(fruits)"
   ]
  },
  {
   "cell_type": "code",
   "execution_count": 14,
   "metadata": {},
   "outputs": [],
   "source": [
    "def half_squared(input):\n",
    "    output = [] \n",
    "    for x in input:\n",
    "        output.append((x*x)/2)\n",
    "    return output"
   ]
  },
  {
   "cell_type": "markdown",
   "metadata": {},
   "source": [
    "### 第六题\n"
   ]
  },
  {
   "cell_type": "code",
   "execution_count": null,
   "metadata": {},
   "outputs": [],
   "source": [
    "a = int(input(\"input first number:\"))\n",
    "if(a>100):\n",
    "    print(\"please input right scores!!!!!\")\n",
    "elif(a>=90):\n",
    "    print(\"A\")\n",
    "elif(a>=60):\n",
    "    print(\"B\")\n",
    "elif(a>=0):\n",
    "    print(\"C\")\n",
    "else:\n",
    "    print(\"i told you please input right scores!!!\")"
   ]
  },
  {
   "cell_type": "markdown",
   "metadata": {},
   "source": [
    "## 第七题"
   ]
  },
  {
   "cell_type": "code",
   "execution_count": null,
   "metadata": {},
   "outputs": [],
   "source": [
    "a = int(input(\"input first number:\"))\n",
    "if(a>100):\n",
    "    print(\"please input right scores!!!!!\")\n",
    "elif(a>=90):\n",
    "    print(\"A\")\n",
    "elif(a>=60):\n",
    "    print(\"B\")\n",
    "elif(a>=0):\n",
    "    print(\"C\")\n",
    "else:\n",
    "    print(\"i told you please input right scores!!!\")"
   ]
  },
  {
   "cell_type": "markdown",
   "metadata": {},
   "source": [
    "## 第八题"
   ]
  },
  {
   "cell_type": "code",
   "execution_count": null,
   "metadata": {},
   "outputs": [],
   "source": [
    "list1 = [1,2,3]\n",
    "list2 = [4,5,6]\n",
    "array = [list1,list2]\n",
    "for i in array:\n",
    "    for j in i:\n",
    "        print(j)\n"
   ]
  },
  {
   "cell_type": "markdown",
   "metadata": {},
   "source": [
    "## 第九题"
   ]
  },
  {
   "cell_type": "code",
   "execution_count": null,
   "metadata": {},
   "outputs": [],
   "source": [
    "a = [1,2,3,4]\n",
    "def f(x):\n",
    "    return x**3\n",
    "for i in map(f,a):\n",
    "    print(i)\n"
   ]
  },
  {
   "cell_type": "markdown",
   "metadata": {},
   "source": [
    "## 第十题"
   ]
  },
  {
   "cell_type": "code",
   "execution_count": null,
   "metadata": {},
   "outputs": [],
   "source": [
    "import random\n",
    "x = random.randint(1,10)\n",
    "y = random.randint(1,10)\n",
    "print(x,y)\n",
    "\n",
    "def exchange(x,y):\n",
    "    x,y = y,x\n",
    "    print(x,y)\n",
    "\n",
    "exchange(x,y)"
   ]
  },
  {
   "cell_type": "markdown",
   "metadata": {},
   "source": [
    "## 第十一题"
   ]
  },
  {
   "cell_type": "code",
   "execution_count": 17,
   "metadata": {},
   "outputs": [
    {
     "name": "stdout",
     "output_type": "stream",
     "text": [
      "   *   \n",
      "  ***  \n",
      " ***** \n",
      "*******\n",
      " ***** \n",
      "  ***  \n",
      "   *   \n"
     ]
    }
   ],
   "source": [
    "a = '*'\n",
    "\n",
    "for i in range(1,8,2):\n",
    "    print((a*i).center(7))\n",
    "for j in reversed(range(1,6,2)):\n",
    "    print((a*j).center(7))"
   ]
  },
  {
   "cell_type": "markdown",
   "metadata": {},
   "source": [
    "## 第十二题"
   ]
  },
  {
   "cell_type": "code",
   "execution_count": 16,
   "metadata": {},
   "outputs": [
    {
     "name": "stdout",
     "output_type": "stream",
     "text": [
      "123456\n",
      "234561\n",
      "345612\n",
      "456123\n",
      "561234\n",
      "612345\n"
     ]
    }
   ],
   "source": [
    "for i in range(1,7):\n",
    "    for j in range(i,7):\n",
    "        print(j,end=\"\")\n",
    "    for k in range(1,i):\n",
    "        print(k,end=\"\")\n",
    "    print()\n"
   ]
  },
  {
   "cell_type": "markdown",
   "metadata": {},
   "source": [
    "## 第十三题"
   ]
  },
  {
   "cell_type": "code",
   "execution_count": 15,
   "metadata": {},
   "outputs": [
    {
     "name": "stdout",
     "output_type": "stream",
     "text": [
      "Charles\n",
      "Martina\n",
      "Mechael\n",
      "Florence\n",
      "Eli\n"
     ]
    }
   ],
   "source": [
    "players = ['charles','martina','mechael','florence','eli']\n",
    "for i in players[0:6]:\n",
    "    print(i.title())"
   ]
  },
  {
   "cell_type": "code",
   "execution_count": null,
   "metadata": {},
   "outputs": [],
   "source": []
  }
 ],
 "metadata": {
  "kernelspec": {
   "display_name": "Python 3",
   "language": "python",
   "name": "python3"
  },
  "language_info": {
   "codemirror_mode": {
    "name": "ipython",
    "version": 3
   },
   "file_extension": ".py",
   "mimetype": "text/x-python",
   "name": "python",
   "nbconvert_exporter": "python",
   "pygments_lexer": "ipython3",
   "version": "3.7.0"
  }
 },
 "nbformat": 4,
 "nbformat_minor": 2
}
